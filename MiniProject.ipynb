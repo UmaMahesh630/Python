{
  "nbformat": 4,
  "nbformat_minor": 0,
  "metadata": {
    "colab": {
      "provenance": [],
      "authorship_tag": "ABX9TyN98vsKqqo97jfaioACDlKA",
      "include_colab_link": true
    },
    "kernelspec": {
      "name": "python3",
      "display_name": "Python 3"
    },
    "language_info": {
      "name": "python"
    }
  },
  "cells": [
    {
      "cell_type": "markdown",
      "metadata": {
        "id": "view-in-github",
        "colab_type": "text"
      },
      "source": [
        "<a href=\"https://colab.research.google.com/github/UmaMahesh630/Python/blob/main/MiniProject.ipynb\" target=\"_parent\"><img src=\"https://colab.research.google.com/assets/colab-badge.svg\" alt=\"Open In Colab\"/></a>"
      ]
    },
    {
      "cell_type": "code",
      "execution_count": 4,
      "metadata": {
        "colab": {
          "base_uri": "https://localhost:8080/"
        },
        "id": "nC-IWb_LKFRv",
        "outputId": "25ba0cbe-e9ac-4adc-95a3-31219e9e2b0b"
      },
      "outputs": [
        {
          "output_type": "stream",
          "name": "stdout",
          "text": [
            "{100: {'name': 'Ram', 'Major': 'cse'}, 101: {'name': 'Ankita', 'Major': 'cse'}}\n",
            "Ram\n",
            "{'name': 'Ram', 'Major': 'cse'}\n",
            "dict_items([(100, {'name': 'Ram', 'Major': 'cse'}), (101, {'name': 'Ankita', 'Major': 'cse'})])\n",
            "dict_keys([100, 101])\n"
          ]
        }
      ],
      "source": [
        "d = {}\n",
        "d[100] = {'name': 'Ram', 'Major':'cse'}\n",
        "d[101] = {'name':'Ankita', 'Major':'cse'}\n",
        "print(d)\n",
        "\n",
        "print(d[100]['name'])\n",
        "\n",
        "print(d.get(100))\n",
        "print(d.items())\n",
        "print(d.keys())"
      ]
    },
    {
      "cell_type": "code",
      "source": [
        "#Mini project  - Student database\n",
        "\n",
        "def createStudentDatabase():\n",
        "  #create a empty dictionary\n",
        "  database={}\n",
        "  return database\n",
        "\n",
        "def AddStudent(database):\n",
        "  # add a new student to the database\n",
        "  usn = input(\"enter the student usn number\")\n",
        "  name = input(\"enter the student name\")\n",
        "  major = input(\"enter the student department\")\n",
        "\n",
        "  database[usn]= {'name':name, 'major':major}\n",
        "  print(\"student added successfully\")\n",
        "\n",
        "\n",
        "def findStudent(database):\n",
        "  #retervive student info\n",
        "  studenid = input(\"enter the usn no\")\n",
        "  studentinfo = database.get(studenid)\n",
        "  if studentinfo:\n",
        "    print(studentinfo)\n",
        "  else:\n",
        "    print(\"student not found\")\n",
        "\n",
        "\n",
        "def displayStudentDetails(database):\n",
        "\n",
        "  #print the content in database\n",
        "  if database:\n",
        "    print(database)\n",
        "  else:\n",
        "    print(\"database is empty\")\n",
        "\n",
        "def removeStudent(database):\n",
        "  #remove the student from the database\n",
        "\n",
        "  studentId = input(\"entert the student id\")\n",
        "  if studentId in database:\n",
        "    del database[studentId]\n",
        "    print(\"student removed successfully\")\n",
        "  else:\n",
        "    print(\"student id not found\")\n",
        "\n",
        "\n",
        "\n",
        "\n",
        "#main program\n",
        "\n",
        "studentDatabse = createStudentDatabase()\n",
        "\n",
        "while True:\n",
        "  print(\"options:\")\n",
        "  print(\"1. Add a student\")\n",
        "  print(\"2. find a student\")\n",
        "  print(\"3. display student details\")\n",
        "  print(\"4. remove student\")\n",
        "  print(\"5. exit\")\n",
        "\n",
        "  choice = int(input(\"enter your choice\"))\n",
        "  if choice == 1:\n",
        "    AddStudent(studentDatabse)\n",
        "  elif choice == 2:\n",
        "    findStudent(studentDatabse)\n",
        "  elif choice == 3:\n",
        "    displayStudentDetails(studentDatabse)\n",
        "  elif choice == 4:\n",
        "    removeStudent(studentDatabse)\n",
        "  elif choice == 5:\n",
        "    break\n",
        "  else:\n",
        "    print(\"invalid choice\")\n",
        "\n"
      ],
      "metadata": {
        "colab": {
          "base_uri": "https://localhost:8080/"
        },
        "id": "iyEzUgEDRTtC",
        "outputId": "71f1f9df-6c1f-477e-8135-7c09d4a4ab3a"
      },
      "execution_count": 8,
      "outputs": [
        {
          "name": "stdout",
          "output_type": "stream",
          "text": [
            "options:\n",
            "1. Add a student\n",
            "2. find a student\n",
            "3. display student details\n",
            "4. remove student\n",
            "5. exit\n",
            "enter your choice1\n",
            "enter the student usn number100\n",
            "enter the student namecse\n",
            "enter the student department101\n",
            "student added successfully\n",
            "options:\n",
            "1. Add a student\n",
            "2. find a student\n",
            "3. display student details\n",
            "4. remove student\n",
            "5. exit\n",
            "enter your choice4\n",
            "entert the student id100\n",
            "student removed successfully\n",
            "options:\n",
            "1. Add a student\n",
            "2. find a student\n",
            "3. display student details\n",
            "4. remove student\n",
            "5. exit\n",
            "enter your choice3\n",
            "database is empty\n",
            "options:\n",
            "1. Add a student\n",
            "2. find a student\n",
            "3. display student details\n",
            "4. remove student\n",
            "5. exit\n",
            "enter your choice100\n",
            "invalid choice\n",
            "options:\n",
            "1. Add a student\n",
            "2. find a student\n",
            "3. display student details\n",
            "4. remove student\n",
            "5. exit\n",
            "enter your choice5\n"
          ]
        }
      ]
    }
  ]
}