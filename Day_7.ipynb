{
  "cells": [
    {
      "cell_type": "markdown",
      "metadata": {
        "id": "view-in-github",
        "colab_type": "text"
      },
      "source": [
        "<a href=\"https://colab.research.google.com/github/UmaMahesh630/Python/blob/main/Day_7.ipynb\" target=\"_parent\"><img src=\"https://colab.research.google.com/assets/colab-badge.svg\" alt=\"Open In Colab\"/></a>"
      ]
    },
    {
      "cell_type": "code",
      "source": [
        "list1 = [1,2,3,4,5]\n",
        "list2 = [2,4,6]\n",
        "\n",
        "result = [ele for ele in list1 if ele not in list2]\n",
        "print(result)\n"
      ],
      "metadata": {
        "colab": {
          "base_uri": "https://localhost:8080/"
        },
        "id": "OCrvhttqEZ6C",
        "outputId": "1c4156e1-0ec3-4b29-c264-55988f0f7d51"
      },
      "execution_count": 1,
      "outputs": [
        {
          "output_type": "stream",
          "name": "stdout",
          "text": [
            "[1, 3, 5]\n"
          ]
        }
      ]
    },
    {
      "cell_type": "code",
      "source": [
        "list1 = [1,2,3]\n",
        "list2 = [2,3,4,5,6,1]\n",
        "\n",
        "count =0\n",
        "\n",
        "for num in list2:\n",
        "  if num not in list1:\n",
        "    list1.append(num)\n",
        "    count+=1\n",
        "\n",
        "print(count)\n",
        "print(list1)"
      ],
      "metadata": {
        "id": "x9G7HFydGcpR",
        "outputId": "9b49b0cf-3d82-42a8-8dc1-fa6bf24f4dfc",
        "colab": {
          "base_uri": "https://localhost:8080/"
        }
      },
      "execution_count": 2,
      "outputs": [
        {
          "output_type": "stream",
          "name": "stdout",
          "text": [
            "3\n",
            "[1, 2, 3, 4, 5, 6]\n"
          ]
        }
      ]
    },
    {
      "cell_type": "code",
      "source": [
        "# number of occurneces of each element\n",
        "\n",
        "l1 = [1,1,1,2,2,3,3,3,3,3,3,4,4,5,6]\n",
        "value = []\n",
        "count = []\n",
        "\n",
        "for i in l1:\n",
        "  if i not in value:\n",
        "    value.append(i)\n",
        "    count.append(i)\n",
        "  else:\n",
        "    index = value.index(i)\n",
        "    count[index]+=1\n",
        "\n",
        "print(value)\n",
        "print(count)"
      ],
      "metadata": {
        "id": "npA-aTzjHi0n",
        "outputId": "c301eb9c-c7e5-4f47-c6cf-9c8432a48d8b",
        "colab": {
          "base_uri": "https://localhost:8080/"
        }
      },
      "execution_count": 3,
      "outputs": [
        {
          "output_type": "stream",
          "name": "stdout",
          "text": [
            "[1, 2, 3, 4, 5, 6]\n",
            "[3, 3, 8, 5, 5, 6]\n"
          ]
        }
      ]
    },
    {
      "cell_type": "code",
      "source": [
        "#Tuples\n",
        "\n",
        "t1 = (1,2,3,4,5.6,[1,2,3,4],(1,2,3),'NTT')\n",
        "print(t1)\n",
        "print(type(t1))"
      ],
      "metadata": {
        "id": "9pIfWSHSJKNX",
        "outputId": "d72e6316-2d5e-49b8-e688-4ab1e3b04fe1",
        "colab": {
          "base_uri": "https://localhost:8080/"
        }
      },
      "execution_count": 7,
      "outputs": [
        {
          "output_type": "stream",
          "name": "stdout",
          "text": [
            "(1, 2, 3, 4, 5.6, [1, 2, 3, 4], (1, 2, 3), 'NTT')\n",
            "<class 'tuple'>\n"
          ]
        }
      ]
    },
    {
      "cell_type": "code",
      "source": [
        "#tuple methods\n",
        "s = \"Ntt data\"\n",
        "t2 = tuple(s)\n",
        "print(t2)"
      ],
      "metadata": {
        "id": "TSfNTro1JkAI",
        "outputId": "1989983c-004c-48e8-b437-121fb0b90d45",
        "colab": {
          "base_uri": "https://localhost:8080/"
        }
      },
      "execution_count": 8,
      "outputs": [
        {
          "output_type": "stream",
          "name": "stdout",
          "text": [
            "('N', 't', 't', ' ', 'd', 'a', 't', 'a')\n"
          ]
        }
      ]
    },
    {
      "cell_type": "code",
      "source": [
        "l1 = [10,20,30]\n",
        "t3 = tuple(l1)\n",
        "print(t3)\n",
        "\n",
        "l5 = list(t3)\n",
        "print(l5)"
      ],
      "metadata": {
        "id": "7GJG4rjkJ76r",
        "outputId": "769bede6-98f1-422e-cca1-126a723d51dc",
        "colab": {
          "base_uri": "https://localhost:8080/",
          "height": 216
        }
      },
      "execution_count": 11,
      "outputs": [
        {
          "output_type": "stream",
          "name": "stdout",
          "text": [
            "(10, 20, 30)\n"
          ]
        },
        {
          "output_type": "error",
          "ename": "TypeError",
          "evalue": "'list' object is not callable",
          "traceback": [
            "\u001b[0;31m---------------------------------------------------------------------------\u001b[0m",
            "\u001b[0;31mTypeError\u001b[0m                                 Traceback (most recent call last)",
            "\u001b[0;32m<ipython-input-11-311780acd54c>\u001b[0m in \u001b[0;36m<cell line: 0>\u001b[0;34m()\u001b[0m\n\u001b[1;32m      3\u001b[0m \u001b[0mprint\u001b[0m\u001b[0;34m(\u001b[0m\u001b[0mt3\u001b[0m\u001b[0;34m)\u001b[0m\u001b[0;34m\u001b[0m\u001b[0;34m\u001b[0m\u001b[0m\n\u001b[1;32m      4\u001b[0m \u001b[0;34m\u001b[0m\u001b[0m\n\u001b[0;32m----> 5\u001b[0;31m \u001b[0ml5\u001b[0m \u001b[0;34m=\u001b[0m \u001b[0mlist\u001b[0m\u001b[0;34m(\u001b[0m\u001b[0mt3\u001b[0m\u001b[0;34m)\u001b[0m\u001b[0;34m\u001b[0m\u001b[0;34m\u001b[0m\u001b[0m\n\u001b[0m\u001b[1;32m      6\u001b[0m \u001b[0mprint\u001b[0m\u001b[0;34m(\u001b[0m\u001b[0ml5\u001b[0m\u001b[0;34m)\u001b[0m\u001b[0;34m\u001b[0m\u001b[0;34m\u001b[0m\u001b[0m\n",
            "\u001b[0;31mTypeError\u001b[0m: 'list' object is not callable"
          ]
        }
      ]
    },
    {
      "cell_type": "code",
      "source": [
        "# tuple with single element\n",
        "\n",
        "t5 = (6)\n",
        "print(t5)\n",
        "print(type(t5))"
      ],
      "metadata": {
        "id": "Yk6qmbJzKgQl",
        "outputId": "0404e321-949c-4330-f98b-02d7b24d7ff7",
        "colab": {
          "base_uri": "https://localhost:8080/"
        }
      },
      "execution_count": 13,
      "outputs": [
        {
          "output_type": "stream",
          "name": "stdout",
          "text": [
            "6\n",
            "<class 'int'>\n"
          ]
        }
      ]
    },
    {
      "cell_type": "code",
      "source": [
        "# tuple with single element\n",
        "\n",
        "t5 = (6,)\n",
        "print(t5)\n",
        "print(type(t5))"
      ],
      "metadata": {
        "id": "Ji_FHdsgLF7V",
        "outputId": "24fc0b2b-ea9d-49ae-a243-b7fa1814780b",
        "colab": {
          "base_uri": "https://localhost:8080/"
        }
      },
      "execution_count": 14,
      "outputs": [
        {
          "output_type": "stream",
          "name": "stdout",
          "text": [
            "(6,)\n",
            "<class 'tuple'>\n"
          ]
        }
      ]
    },
    {
      "cell_type": "code",
      "source": [
        "#iterating tuples\n",
        "t1=(10,20,30)\n",
        "\n",
        "for i in t1:\n",
        "  print(i)"
      ],
      "metadata": {
        "id": "HT_QW7ClMsIz",
        "outputId": "c1c00319-44ca-4301-bd3b-d6537cefc0b8",
        "colab": {
          "base_uri": "https://localhost:8080/"
        }
      },
      "execution_count": 15,
      "outputs": [
        {
          "output_type": "stream",
          "name": "stdout",
          "text": [
            "10\n",
            "20\n",
            "30\n"
          ]
        }
      ]
    },
    {
      "cell_type": "code",
      "source": [
        "#tuple slicing\n",
        "t1 = (1,2,3,[1,2,3],\"ntt\")\n",
        "myslice = t1[1:5]\n",
        "print(myslice)"
      ],
      "metadata": {
        "id": "QLr5hFBOM3EK",
        "outputId": "a7ef8a7b-33ea-4b1f-da08-ed4889274b1b",
        "colab": {
          "base_uri": "https://localhost:8080/"
        }
      },
      "execution_count": 22,
      "outputs": [
        {
          "output_type": "stream",
          "name": "stdout",
          "text": [
            "(2, 3, [1, 2, 3], 'ntt')\n"
          ]
        }
      ]
    },
    {
      "cell_type": "code",
      "source": [
        "#Dictionary\n",
        "d1 = {\"name\":\"Ankita\", \"age\":26, \"city\":\"Pune\"}\n",
        "print(d1)\n",
        "print(type(d1))\n",
        "print(d1.keys())\n",
        "print(d1.values())\n",
        "print(d1.items())"
      ],
      "metadata": {
        "id": "Itu3DBG8QI4s",
        "outputId": "6411803b-5976-46e8-b827-bb8983114956",
        "colab": {
          "base_uri": "https://localhost:8080/"
        }
      },
      "execution_count": 26,
      "outputs": [
        {
          "output_type": "stream",
          "name": "stdout",
          "text": [
            "{'name': 'Ankita', 'age': 26, 'city': 'Pune'}\n",
            "<class 'dict'>\n",
            "dict_keys(['name', 'age', 'city'])\n",
            "dict_values(['Ankita', 26, 'Pune'])\n",
            "dict_items([('name', 'Ankita'), ('age', 26), ('city', 'Pune')])\n"
          ]
        }
      ]
    }
  ],
  "metadata": {
    "colab": {
      "name": "Welcome to Colab",
      "toc_visible": true,
      "provenance": [],
      "include_colab_link": true
    },
    "kernelspec": {
      "display_name": "Python 3",
      "name": "python3"
    }
  },
  "nbformat": 4,
  "nbformat_minor": 0
}