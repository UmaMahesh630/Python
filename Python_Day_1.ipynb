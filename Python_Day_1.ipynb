{
  "cells": [
    {
      "cell_type": "markdown",
      "metadata": {
        "id": "view-in-github",
        "colab_type": "text"
      },
      "source": [
        "<a href=\"https://colab.research.google.com/github/UmaMahesh630/Python/blob/main/Python_Day_1.ipynb\" target=\"_parent\"><img src=\"https://colab.research.google.com/assets/colab-badge.svg\" alt=\"Open In Colab\"/></a>"
      ]
    },
    {
      "cell_type": "code",
      "source": [
        "print(\"Hello Python\")"
      ],
      "metadata": {
        "colab": {
          "base_uri": "https://localhost:8080/"
        },
        "id": "Tp46cgxG4QHk",
        "outputId": "e8b6148e-c282-4ca0-ea8e-153ba70a935c"
      },
      "execution_count": 2,
      "outputs": [
        {
          "output_type": "stream",
          "name": "stdout",
          "text": [
            "Hello Python\n"
          ]
        }
      ]
    },
    {
      "cell_type": "code",
      "source": [
        "#Memory allocation\n",
        "a=100\n",
        "print(id(a))"
      ],
      "metadata": {
        "colab": {
          "base_uri": "https://localhost:8080/"
        },
        "id": "04qTYymBEQUi",
        "outputId": "7776bbda-864d-4321-f613-347744ffa270"
      },
      "execution_count": 3,
      "outputs": [
        {
          "output_type": "stream",
          "name": "stdout",
          "text": [
            "10754024\n"
          ]
        }
      ]
    },
    {
      "cell_type": "code",
      "source": [
        "#Memory allocation\n",
        "b=100\n",
        "print(id(b))"
      ],
      "metadata": {
        "colab": {
          "base_uri": "https://localhost:8080/"
        },
        "id": "CGAy5JD2EWAl",
        "outputId": "2de03557-d228-4b29-9021-7443d7a35828"
      },
      "execution_count": 9,
      "outputs": [
        {
          "output_type": "stream",
          "name": "stdout",
          "text": [
            "10754024\n"
          ]
        }
      ]
    },
    {
      "cell_type": "code",
      "source": [
        "#varibale decalration/intilization\n",
        "a=10\n",
        "b=10\n",
        "c=10\n",
        "print(a,b,c)"
      ],
      "metadata": {
        "colab": {
          "base_uri": "https://localhost:8080/"
        },
        "id": "Nj2TeXb3HNir",
        "outputId": "798fc2c6-43d1-4d37-eff1-ee6aa749696f"
      },
      "execution_count": 8,
      "outputs": [
        {
          "output_type": "stream",
          "name": "stdout",
          "text": [
            "10 10 10\n"
          ]
        }
      ]
    },
    {
      "cell_type": "code",
      "source": [],
      "metadata": {
        "id": "318gBabEJnnx"
      },
      "execution_count": null,
      "outputs": []
    },
    {
      "cell_type": "code",
      "source": [
        "#varibale decalration/intilization\n",
        "a,b,c = 10,20,30\n",
        "print(a,b,c)"
      ],
      "metadata": {
        "colab": {
          "base_uri": "https://localhost:8080/"
        },
        "id": "53HuNQy9HUxl",
        "outputId": "0ec9d42a-7766-4048-f9a7-c6ddff0ca750"
      },
      "execution_count": 6,
      "outputs": [
        {
          "output_type": "stream",
          "name": "stdout",
          "text": [
            "10 20 30\n"
          ]
        }
      ]
    },
    {
      "cell_type": "code",
      "source": [
        "#varibale decalration/intilization\n",
        "a=b=c=10\n",
        "print(a,b,c)"
      ],
      "metadata": {
        "colab": {
          "base_uri": "https://localhost:8080/"
        },
        "id": "tGLvG6btHdQr",
        "outputId": "7e7174c8-c3c6-4e07-8a4c-48ec7f70d6bf"
      },
      "execution_count": 7,
      "outputs": [
        {
          "output_type": "stream",
          "name": "stdout",
          "text": [
            "10 10 10\n"
          ]
        }
      ]
    },
    {
      "cell_type": "code",
      "source": [
        "# it list all keywords in python\n",
        "import keyword as kw\n",
        "print(kw.kwlist)"
      ],
      "metadata": {
        "id": "_MGMLtEAJo6L",
        "outputId": "5c003794-0d35-4a8e-b4f3-24182bed4e10",
        "colab": {
          "base_uri": "https://localhost:8080/"
        }
      },
      "execution_count": 11,
      "outputs": [
        {
          "output_type": "stream",
          "name": "stdout",
          "text": [
            "['False', 'None', 'True', 'and', 'as', 'assert', 'async', 'await', 'break', 'class', 'continue', 'def', 'del', 'elif', 'else', 'except', 'finally', 'for', 'from', 'global', 'if', 'import', 'in', 'is', 'lambda', 'nonlocal', 'not', 'or', 'pass', 'raise', 'return', 'try', 'while', 'with', 'yield']\n"
          ]
        }
      ]
    },
    {
      "cell_type": "code",
      "source": [
        "#Multiline comments\n",
        "\"\"\"This is a multiline comment\"\"\"\n",
        "print(\"mutline comments\")"
      ],
      "metadata": {
        "id": "8SYzVvVUKPFF",
        "outputId": "efe5ae03-6ba2-410e-cdcd-40848393b18a",
        "colab": {
          "base_uri": "https://localhost:8080/"
        }
      },
      "execution_count": 13,
      "outputs": [
        {
          "output_type": "stream",
          "name": "stdout",
          "text": [
            "mutline comments\n"
          ]
        }
      ]
    },
    {
      "cell_type": "code",
      "source": [
        "#strings\n",
        "str=\"this is a string\"\n",
        "print(str)"
      ],
      "metadata": {
        "id": "cwP0wMTINbeh",
        "outputId": "a2f192a6-4a94-4dd8-9954-4873f83edfd5",
        "colab": {
          "base_uri": "https://localhost:8080/"
        }
      },
      "execution_count": 14,
      "outputs": [
        {
          "output_type": "stream",
          "name": "stdout",
          "text": [
            "this is a string\n"
          ]
        }
      ]
    },
    {
      "cell_type": "code",
      "source": [
        "str1=\"\"\"this is\n",
        "a string\n",
        "multiline\"\"\"\n",
        "print(str1)"
      ],
      "metadata": {
        "id": "PjCoxi-INibi",
        "outputId": "addcc4d3-aa81-4de5-f0ab-28b4be7bd993",
        "colab": {
          "base_uri": "https://localhost:8080/"
        }
      },
      "execution_count": 15,
      "outputs": [
        {
          "output_type": "stream",
          "name": "stdout",
          "text": [
            "this is \n",
            "a string \n",
            "multiline\n"
          ]
        }
      ]
    },
    {
      "cell_type": "code",
      "source": [
        "# positive indexing a similiar to other programing language\n",
        "s = \"i am from ntt data\"\n",
        "print(s[0])\n",
        "print(s[1])\n",
        "print(s[2])\n",
        "print(s[3])\n",
        "print(s[4])"
      ],
      "metadata": {
        "id": "3aR0rpReN-ny",
        "outputId": "ec713748-13d1-41d9-8b49-e20fc4307f68",
        "colab": {
          "base_uri": "https://localhost:8080/"
        }
      },
      "execution_count": 17,
      "outputs": [
        {
          "output_type": "stream",
          "name": "stdout",
          "text": [
            "i\n",
            " \n",
            "a\n",
            "m\n",
            " \n"
          ]
        }
      ]
    },
    {
      "cell_type": "code",
      "source": [
        "#negative indxing is availble in python\n",
        "#it will be useful for reversal of strings\n",
        "s= \"i am from ntt data\"\n",
        "print(s[-1])\n",
        "print(s[-2])"
      ],
      "metadata": {
        "id": "aO2F3uaHONf_",
        "outputId": "68cb4db9-7e8e-42fe-edbb-4e994993fa37",
        "colab": {
          "base_uri": "https://localhost:8080/"
        }
      },
      "execution_count": 18,
      "outputs": [
        {
          "output_type": "stream",
          "name": "stdout",
          "text": [
            "a\n",
            "t\n"
          ]
        }
      ]
    },
    {
      "cell_type": "markdown",
      "source": [
        "1.same memory location > in python it point out to same memory location, address allocated to values.\n",
        "2. we can declare/initalize variable in multiple ways as mentioned above."
      ],
      "metadata": {
        "id": "-lQzcf0HEkmS"
      }
    }
  ],
  "metadata": {
    "colab": {
      "name": "Welcome To Colab",
      "provenance": [],
      "include_colab_link": true
    },
    "kernelspec": {
      "display_name": "Python 3",
      "name": "python3"
    }
  },
  "nbformat": 4,
  "nbformat_minor": 0
}