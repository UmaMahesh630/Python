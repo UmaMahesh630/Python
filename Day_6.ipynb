{
  "cells": [
    {
      "cell_type": "markdown",
      "metadata": {
        "id": "view-in-github",
        "colab_type": "text"
      },
      "source": [
        "<a href=\"https://colab.research.google.com/github/UmaMahesh630/Python/blob/main/Day_6.ipynb\" target=\"_parent\"><img src=\"https://colab.research.google.com/assets/colab-badge.svg\" alt=\"Open In Colab\"/></a>"
      ]
    },
    {
      "cell_type": "code",
      "source": [
        "print(\"Hello Python\")"
      ],
      "metadata": {
        "colab": {
          "base_uri": "https://localhost:8080/"
        },
        "id": "Tp46cgxG4QHk",
        "outputId": "dc2f7b77-ae29-4124-bb4b-c73714857988"
      },
      "execution_count": null,
      "outputs": [
        {
          "output_type": "stream",
          "name": "stdout",
          "text": [
            "Hello Python\n"
          ]
        }
      ]
    },
    {
      "cell_type": "code",
      "source": [
        "s = \"Bangalore\"\n",
        "print(s)\n",
        "print(s[0:3:1])\n",
        "print(s[0:3:2])\n",
        "print(s[::1])\n",
        "print(s[::3])\n",
        "print(s[-4::-1])\n",
        "print(s[-3::-2])\n",
        "print(s[-9:-4:2])"
      ],
      "metadata": {
        "colab": {
          "base_uri": "https://localhost:8080/"
        },
        "id": "LUfTx8rnuQnp",
        "outputId": "57e27336-8656-4c5a-b93b-46375f431058"
      },
      "execution_count": null,
      "outputs": [
        {
          "output_type": "stream",
          "name": "stdout",
          "text": [
            "Bangalore\n",
            "Ban\n",
            "Bn\n",
            "Bangalore\n",
            "Bgo\n",
            "lagnaB\n",
            "oanB\n",
            "Bna\n"
          ]
        }
      ]
    },
    {
      "cell_type": "code",
      "source": [
        "string = \"Hello, world!\"\n",
        "print(string)\n",
        "print(string[7:12])\n",
        "print(string[-6:-1])\n",
        "print(string[-3:])\n",
        "print(string[-5:2:-2])"
      ],
      "metadata": {
        "colab": {
          "base_uri": "https://localhost:8080/"
        },
        "id": "4CnZ5k028QVv",
        "outputId": "706a743a-f08e-44bb-c3b2-1bb49fad2d45"
      },
      "execution_count": null,
      "outputs": [
        {
          "output_type": "stream",
          "name": "stdout",
          "text": [
            "Hello, world!\n",
            "world\n",
            "world\n",
            "ld!\n",
            "o o\n"
          ]
        }
      ]
    },
    {
      "cell_type": "code",
      "source": [
        "#List\n",
        "list = [10,20,30,'NTT',2+3j,[100,200,300]]\n",
        "print(list)\n",
        "print(list[0])\n",
        "print(list[3])\n",
        "print(list[5])\n",
        "print(type(list))"
      ],
      "metadata": {
        "id": "nTBhdO_aw88u",
        "colab": {
          "base_uri": "https://localhost:8080/"
        },
        "outputId": "dde55718-05fd-4a2f-ab47-22fb56f919ad"
      },
      "execution_count": 5,
      "outputs": [
        {
          "output_type": "stream",
          "name": "stdout",
          "text": [
            "[10, 20, 30, 'NTT', (2+3j), [100, 200, 300]]\n",
            "10\n",
            "NTT\n",
            "[100, 200, 300]\n",
            "<class 'list'>\n"
          ]
        }
      ]
    },
    {
      "cell_type": "code",
      "source": [
        "print(list)\n",
        "print(list[0:3])\n",
        "print(list[0:6:2])"
      ],
      "metadata": {
        "id": "YlBBXuFbzaDh",
        "outputId": "6c9b5e63-8473-42b0-e7e4-13bf2e2dffe6",
        "colab": {
          "base_uri": "https://localhost:8080/"
        }
      },
      "execution_count": 8,
      "outputs": [
        {
          "output_type": "stream",
          "name": "stdout",
          "text": [
            "[10, 20, 30, 'NTT', (2+3j), [100, 200, 300]]\n",
            "[10, 20, 30]\n",
            "[10, 30, (2+3j)]\n"
          ]
        }
      ]
    },
    {
      "cell_type": "code",
      "source": [
        "print(list[::-1])"
      ],
      "metadata": {
        "id": "ljAxK2UTzo64",
        "outputId": "690ae713-39fa-4758-808b-75f400e2056a",
        "colab": {
          "base_uri": "https://localhost:8080/"
        }
      },
      "execution_count": 9,
      "outputs": [
        {
          "output_type": "stream",
          "name": "stdout",
          "text": [
            "[[100, 200, 300], (2+3j), 'NTT', 30, 20, 10]\n"
          ]
        }
      ]
    },
    {
      "cell_type": "code",
      "source": [
        "#Concatention\n",
        "l1 = [10,20,30]\n",
        "l2=[40,50,60]\n",
        "l3 = l1+l2\n",
        "print(l3)\n",
        "print(id(l1))"
      ],
      "metadata": {
        "id": "GobffAFv0lot",
        "outputId": "3bfc8159-7753-4e88-ab63-ac4c5cb16d94",
        "colab": {
          "base_uri": "https://localhost:8080/"
        }
      },
      "execution_count": 11,
      "outputs": [
        {
          "output_type": "stream",
          "name": "stdout",
          "text": [
            "[10, 20, 30, 40, 50, 60]\n",
            "135809361785024\n"
          ]
        }
      ]
    },
    {
      "cell_type": "code",
      "source": [
        "#inbuilt function\n",
        "l1 = [10,1000,500,200]\n",
        "print(max(l1))"
      ],
      "metadata": {
        "id": "ybIqWa8U4MCM",
        "outputId": "dc41b908-743e-426e-f263-60741153a06a",
        "colab": {
          "base_uri": "https://localhost:8080/"
        }
      },
      "execution_count": 12,
      "outputs": [
        {
          "output_type": "stream",
          "name": "stdout",
          "text": [
            "1000\n"
          ]
        }
      ]
    },
    {
      "cell_type": "code",
      "source": [
        "l2 = ['aaa','bbb','ccc']\n",
        "print(max(l2))"
      ],
      "metadata": {
        "id": "7fcaETdf4aBL",
        "outputId": "583aaa91-331f-4d16-b028-1b73bac404c5",
        "colab": {
          "base_uri": "https://localhost:8080/"
        }
      },
      "execution_count": 13,
      "outputs": [
        {
          "output_type": "stream",
          "name": "stdout",
          "text": [
            "ccc\n"
          ]
        }
      ]
    },
    {
      "cell_type": "code",
      "source": [
        "l3 = [10,20,'NTT']\n",
        "print(max(l3))"
      ],
      "metadata": {
        "id": "F1vWx0GJ4hPk",
        "outputId": "f0b13bfd-50b2-4d6f-eed7-84e8237487eb",
        "colab": {
          "base_uri": "https://localhost:8080/",
          "height": 158
        }
      },
      "execution_count": 14,
      "outputs": [
        {
          "output_type": "error",
          "ename": "TypeError",
          "evalue": "'>' not supported between instances of 'str' and 'int'",
          "traceback": [
            "\u001b[0;31m---------------------------------------------------------------------------\u001b[0m",
            "\u001b[0;31mTypeError\u001b[0m                                 Traceback (most recent call last)",
            "\u001b[0;32m<ipython-input-14-cb8f54bf51a8>\u001b[0m in \u001b[0;36m<cell line: 0>\u001b[0;34m()\u001b[0m\n\u001b[1;32m      1\u001b[0m \u001b[0ml3\u001b[0m \u001b[0;34m=\u001b[0m \u001b[0;34m[\u001b[0m\u001b[0;36m10\u001b[0m\u001b[0;34m,\u001b[0m\u001b[0;36m20\u001b[0m\u001b[0;34m,\u001b[0m\u001b[0;34m'NTT'\u001b[0m\u001b[0;34m]\u001b[0m\u001b[0;34m\u001b[0m\u001b[0;34m\u001b[0m\u001b[0m\n\u001b[0;32m----> 2\u001b[0;31m \u001b[0mprint\u001b[0m\u001b[0;34m(\u001b[0m\u001b[0mmax\u001b[0m\u001b[0;34m(\u001b[0m\u001b[0ml3\u001b[0m\u001b[0;34m)\u001b[0m\u001b[0;34m)\u001b[0m\u001b[0;34m\u001b[0m\u001b[0;34m\u001b[0m\u001b[0m\n\u001b[0m",
            "\u001b[0;31mTypeError\u001b[0m: '>' not supported between instances of 'str' and 'int'"
          ]
        }
      ]
    },
    {
      "cell_type": "code",
      "source": [
        "l1 = ['aaa','bbbb','cccddd']\n",
        "print(max(12,key=len))"
      ],
      "metadata": {
        "id": "yErZ38cd6Juy",
        "outputId": "e12be5cd-66a2-4469-f8ff-7350dc1ea755",
        "colab": {
          "base_uri": "https://localhost:8080/",
          "height": 158
        }
      },
      "execution_count": 15,
      "outputs": [
        {
          "output_type": "error",
          "ename": "TypeError",
          "evalue": "'int' object is not iterable",
          "traceback": [
            "\u001b[0;31m---------------------------------------------------------------------------\u001b[0m",
            "\u001b[0;31mTypeError\u001b[0m                                 Traceback (most recent call last)",
            "\u001b[0;32m<ipython-input-15-4acae1e5898b>\u001b[0m in \u001b[0;36m<cell line: 0>\u001b[0;34m()\u001b[0m\n\u001b[1;32m      1\u001b[0m \u001b[0ml1\u001b[0m \u001b[0;34m=\u001b[0m \u001b[0;34m[\u001b[0m\u001b[0;34m'aaa'\u001b[0m\u001b[0;34m,\u001b[0m\u001b[0;34m'bbbb'\u001b[0m\u001b[0;34m,\u001b[0m\u001b[0;34m'cccddd'\u001b[0m\u001b[0;34m]\u001b[0m\u001b[0;34m\u001b[0m\u001b[0;34m\u001b[0m\u001b[0m\n\u001b[0;32m----> 2\u001b[0;31m \u001b[0mprint\u001b[0m\u001b[0;34m(\u001b[0m\u001b[0mmax\u001b[0m\u001b[0;34m(\u001b[0m\u001b[0;36m12\u001b[0m\u001b[0;34m,\u001b[0m\u001b[0mkey\u001b[0m\u001b[0;34m=\u001b[0m\u001b[0mlen\u001b[0m\u001b[0;34m)\u001b[0m\u001b[0;34m)\u001b[0m\u001b[0;34m\u001b[0m\u001b[0;34m\u001b[0m\u001b[0m\n\u001b[0m",
            "\u001b[0;31mTypeError\u001b[0m: 'int' object is not iterable"
          ]
        }
      ]
    },
    {
      "cell_type": "code",
      "source": [
        "l1 = [10,20,30,40]\n",
        "l1.append(50)\n",
        "l1.append(60)\n",
        "print(l1)"
      ],
      "metadata": {
        "id": "dpPJmHbp62hA",
        "outputId": "c93d16a8-db6d-4e04-bb3a-ef463d84f9f4",
        "colab": {
          "base_uri": "https://localhost:8080/"
        }
      },
      "execution_count": 18,
      "outputs": [
        {
          "output_type": "stream",
          "name": "stdout",
          "text": [
            "[10, 20, 30, 40, 50, 60]\n"
          ]
        }
      ]
    },
    {
      "cell_type": "code",
      "source": [
        "l1 = [10,20,30]\n",
        "l2 = [40,50,60]\n",
        "\n",
        "l1.extend(l2)\n",
        "print(l1)\n",
        "#Insert method\n",
        "l1.insert(0,70)\n",
        "print(l1)"
      ],
      "metadata": {
        "id": "uNALLsvw9xn1",
        "outputId": "7d8f7721-c370-4143-e21b-59b2ce9614f1",
        "colab": {
          "base_uri": "https://localhost:8080/"
        }
      },
      "execution_count": 23,
      "outputs": [
        {
          "output_type": "stream",
          "name": "stdout",
          "text": [
            "[10, 20, 30, 40, 50, 60]\n",
            "[70, 10, 20, 30, 40, 50, 60]\n"
          ]
        }
      ]
    },
    {
      "cell_type": "code",
      "source": [
        "#remove method\n",
        "l1 = [10,10,20,20,30]\n",
        "l1.remove(10)\n",
        "l1.remove(20)\n",
        "print(l1)"
      ],
      "metadata": {
        "id": "s6riaPNI_IlQ",
        "outputId": "09b9f9d2-a85b-44bc-f277-694a82eeb3e4",
        "colab": {
          "base_uri": "https://localhost:8080/"
        }
      },
      "execution_count": 25,
      "outputs": [
        {
          "output_type": "stream",
          "name": "stdout",
          "text": [
            "[10, 20, 30]\n"
          ]
        }
      ]
    },
    {
      "cell_type": "code",
      "source": [
        "#pop method\n",
        "l1 = [10,20,30]\n",
        "result = l1.pop()\n",
        "print(result)"
      ],
      "metadata": {
        "id": "J4Gl_zkS_3nQ",
        "outputId": "549473a5-e8b8-4320-d568-b4722e2637b5",
        "colab": {
          "base_uri": "https://localhost:8080/"
        }
      },
      "execution_count": 28,
      "outputs": [
        {
          "output_type": "stream",
          "name": "stdout",
          "text": [
            "30\n"
          ]
        }
      ]
    }
  ],
  "metadata": {
    "colab": {
      "name": "Welcome To Colab",
      "provenance": [],
      "include_colab_link": true
    },
    "kernelspec": {
      "display_name": "Python 3",
      "name": "python3"
    }
  },
  "nbformat": 4,
  "nbformat_minor": 0
}