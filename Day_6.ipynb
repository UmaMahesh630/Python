{
  "cells": [
    {
      "cell_type": "markdown",
      "metadata": {
        "id": "view-in-github",
        "colab_type": "text"
      },
      "source": [
        "<a href=\"https://colab.research.google.com/github/UmaMahesh630/Python/blob/main/Day_6.ipynb\" target=\"_parent\"><img src=\"https://colab.research.google.com/assets/colab-badge.svg\" alt=\"Open In Colab\"/></a>"
      ]
    },
    {
      "cell_type": "code",
      "source": [
        "print(\"Hello Python\")"
      ],
      "metadata": {
        "colab": {
          "base_uri": "https://localhost:8080/"
        },
        "id": "Tp46cgxG4QHk",
        "outputId": "dc2f7b77-ae29-4124-bb4b-c73714857988"
      },
      "execution_count": null,
      "outputs": [
        {
          "output_type": "stream",
          "name": "stdout",
          "text": [
            "Hello Python\n"
          ]
        }
      ]
    },
    {
      "cell_type": "code",
      "source": [
        "s = \"Bangalore\"\n",
        "print(s)\n",
        "print(s[0:3:1])\n",
        "print(s[0:3:2])\n",
        "print(s[::1])\n",
        "print(s[::3])\n",
        "print(s[-4::-1])\n",
        "print(s[-3::-2])\n",
        "print(s[-9:-4:2])"
      ],
      "metadata": {
        "colab": {
          "base_uri": "https://localhost:8080/"
        },
        "id": "LUfTx8rnuQnp",
        "outputId": "57e27336-8656-4c5a-b93b-46375f431058"
      },
      "execution_count": null,
      "outputs": [
        {
          "output_type": "stream",
          "name": "stdout",
          "text": [
            "Bangalore\n",
            "Ban\n",
            "Bn\n",
            "Bangalore\n",
            "Bgo\n",
            "lagnaB\n",
            "oanB\n",
            "Bna\n"
          ]
        }
      ]
    },
    {
      "cell_type": "code",
      "source": [
        "string = \"Hello, world!\"\n",
        "print(string)\n",
        "print(string[7:12])\n",
        "print(string[-6:-1])\n",
        "print(string[-3:])\n",
        "print(string[-5:2:-2])"
      ],
      "metadata": {
        "colab": {
          "base_uri": "https://localhost:8080/"
        },
        "id": "4CnZ5k028QVv",
        "outputId": "706a743a-f08e-44bb-c3b2-1bb49fad2d45"
      },
      "execution_count": null,
      "outputs": [
        {
          "output_type": "stream",
          "name": "stdout",
          "text": [
            "Hello, world!\n",
            "world\n",
            "world\n",
            "ld!\n",
            "o o\n"
          ]
        }
      ]
    },
    {
      "cell_type": "code",
      "source": [],
      "metadata": {
        "id": "nTBhdO_aw88u"
      },
      "execution_count": null,
      "outputs": []
    }
  ],
  "metadata": {
    "colab": {
      "name": "Welcome To Colab",
      "provenance": [],
      "include_colab_link": true
    },
    "kernelspec": {
      "display_name": "Python 3",
      "name": "python3"
    }
  },
  "nbformat": 4,
  "nbformat_minor": 0
}