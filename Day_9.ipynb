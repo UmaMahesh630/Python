{
  "nbformat": 4,
  "nbformat_minor": 0,
  "metadata": {
    "colab": {
      "provenance": [],
      "authorship_tag": "ABX9TyOw5Px4oqmsU/YgBNALJm/C",
      "include_colab_link": true
    },
    "kernelspec": {
      "name": "python3",
      "display_name": "Python 3"
    },
    "language_info": {
      "name": "python"
    }
  },
  "cells": [
    {
      "cell_type": "markdown",
      "metadata": {
        "id": "view-in-github",
        "colab_type": "text"
      },
      "source": [
        "<a href=\"https://colab.research.google.com/github/UmaMahesh630/Python/blob/main/Day_9.ipynb\" target=\"_parent\"><img src=\"https://colab.research.google.com/assets/colab-badge.svg\" alt=\"Open In Colab\"/></a>"
      ]
    },
    {
      "cell_type": "code",
      "execution_count": 3,
      "metadata": {
        "colab": {
          "base_uri": "https://localhost:8080/"
        },
        "id": "DBKRupkTxzTo",
        "outputId": "f38720ce-d581-4b52-b63e-32180497cbc2"
      },
      "outputs": [
        {
          "output_type": "stream",
          "name": "stdout",
          "text": [
            "[10, 20, 34]\n",
            "138775472754240\n",
            "138775472754240\n",
            "[10, 200, 34]\n",
            "[10, 200, 34]\n"
          ]
        }
      ],
      "source": [
        "l1 = [10,20,34]\n",
        "print(l1)\n",
        "\n",
        "l2 = l1\n",
        "print(id(l1))\n",
        "print(id(l2))\n",
        "\n",
        "l2[1] = 200\n",
        "\n",
        "print(l1)\n",
        "print(l2)\n"
      ]
    },
    {
      "cell_type": "code",
      "source": [
        "#Shallow copy, first layer will be different memenory location rest of them point to same memory location\n",
        "import copy\n",
        "l1 = [[1,2,3],[4,5,6],[7,8,9]]\n",
        "\n",
        "l2 = copy.copy(l1)\n",
        "\n",
        "print (\"id of l1:\",id(l1))\n",
        "print(\"id of the first element\", id(l1[0]))\n",
        "print(\"id of the first element\", id(l1[1]))\n",
        "print(\"id of the first element\", id(l1[2]))\n",
        "\n",
        "l2 = copy.copy(l1)\n",
        "print (\"id of l1:\",id(l2))\n",
        "print(\"id of the first element\", id(l2[0]))\n",
        "print(\"id of the first element\", id(l2[1]))\n",
        "print(\"id of the first element\", id(l2[2]))\n",
        "\n",
        "l1[2][2] = 'hello'\n",
        "print(l1)\n",
        "print(l2)\n"
      ],
      "metadata": {
        "colab": {
          "base_uri": "https://localhost:8080/"
        },
        "id": "x0YcUAUdznJ1",
        "outputId": "a9f2ff41-ce19-4e4c-ae47-e8ff1a09c8e8"
      },
      "execution_count": 7,
      "outputs": [
        {
          "output_type": "stream",
          "name": "stdout",
          "text": [
            "id of l1: 138775473138240\n",
            "id of the first element 138775473137792\n",
            "id of the first element 138775473134976\n",
            "id of the first element 138775473130496\n",
            "id of l1: 138775473131456\n",
            "id of the first element 138775473137792\n",
            "id of the first element 138775473134976\n",
            "id of the first element 138775473130496\n",
            "[[1, 2, 3], [4, 5, 6], [7, 8, 'hello']]\n",
            "[[1, 2, 3], [4, 5, 6], [7, 8, 'hello']]\n"
          ]
        }
      ]
    },
    {
      "cell_type": "code",
      "source": [
        "#deep copy having different memory location\n",
        "import copy\n",
        "l1 = [[1,2,3],[4,5,6],[7,8,9]]\n",
        "\n",
        "l2 = copy.deepcopy(l1)\n",
        "\n",
        "print (\"id of l1:\",id(l1))\n",
        "print(\"id of the first element\", id(l1[0]))\n",
        "print(\"id of the first element\", id(l1[1]))\n",
        "print(\"id of the first element\", id(l1[2]))\n",
        "\n",
        "l2 = copy.deepcopy(l1)\n",
        "print (\"id of l1:\",id(l2))\n",
        "print(\"id of the first element\", id(l2[0]))\n",
        "print(\"id of the first element\", id(l2[1]))\n",
        "print(\"id of the first element\", id(l2[2]))\n",
        "\n",
        "l1[2][2] = 'hello'\n",
        "print(l1)\n",
        "print(l2)"
      ],
      "metadata": {
        "colab": {
          "base_uri": "https://localhost:8080/"
        },
        "id": "iTd4SBhf28ci",
        "outputId": "40c31496-cd89-4f00-85ae-02219c08e097"
      },
      "execution_count": 11,
      "outputs": [
        {
          "output_type": "stream",
          "name": "stdout",
          "text": [
            "id of l1: 138775472989120\n",
            "id of the first element 138775472943744\n",
            "id of the first element 138775472932800\n",
            "id of the first element 138776034861248\n",
            "id of l1: 138775472942592\n",
            "id of the first element 138775472934720\n",
            "id of the first element 138775473035840\n",
            "id of the first element 138775472946048\n",
            "[[1, 2, 3], [4, 5, 6], [7, 8, 'hello']]\n",
            "[[1, 2, 3], [4, 5, 6], [7, 8, 9]]\n"
          ]
        }
      ]
    },
    {
      "cell_type": "code",
      "source": [
        "#Set unorder collection of items of different types of enclosed in curly braces\n",
        "\n",
        "s = {101,'Ankita','pass',95.3}\n",
        "print(s)\n",
        "print(type(s))\n",
        "\n",
        "\n",
        "s2 = {10,10,30,(1,2,3), \"NTT\"}\n",
        "print(s2)\n",
        "\n",
        "s3 = set(\"NTT data\")\n",
        "print(s3)"
      ],
      "metadata": {
        "colab": {
          "base_uri": "https://localhost:8080/"
        },
        "id": "N5IXh5IA3p2s",
        "outputId": "ff9e9ea8-b3d2-488e-f3de-8ad0771af661"
      },
      "execution_count": 18,
      "outputs": [
        {
          "output_type": "stream",
          "name": "stdout",
          "text": [
            "{'pass', 'Ankita', 101, 95.3}\n",
            "<class 'set'>\n",
            "{10, (1, 2, 3), 30, 'NTT'}\n",
            "{'a', 't', ' ', 'N', 'T', 'd'}\n"
          ]
        }
      ]
    },
    {
      "cell_type": "code",
      "source": [
        "s5 = {}\n",
        "\n",
        "print(s5)\n",
        "print(type(s5))\n",
        "\n",
        "#if you want to create empty set use set method\n",
        "s6 = set()\n",
        "print(s6)\n",
        "print(type(s6))\n"
      ],
      "metadata": {
        "colab": {
          "base_uri": "https://localhost:8080/"
        },
        "id": "PCsG-xFg7VTF",
        "outputId": "aeee90b4-9518-4a05-8013-c58c1fd25569"
      },
      "execution_count": 21,
      "outputs": [
        {
          "output_type": "stream",
          "name": "stdout",
          "text": [
            "{}\n",
            "<class 'dict'>\n",
            "set()\n",
            "<class 'set'>\n"
          ]
        }
      ]
    },
    {
      "cell_type": "code",
      "source": [
        "# set methods\n",
        "\n",
        "s1 = {10,200,'Ntt',34.5}\n",
        "s1.add('kk')\n",
        "print(s1)\n",
        "\n",
        "s1.update([10,20,'blr'])\n",
        "print(s1)"
      ],
      "metadata": {
        "colab": {
          "base_uri": "https://localhost:8080/"
        },
        "id": "4sANMYqA8XI6",
        "outputId": "3a3670b5-5ed6-4284-c1ac-a45a39818c4c"
      },
      "execution_count": 23,
      "outputs": [
        {
          "output_type": "stream",
          "name": "stdout",
          "text": [
            "{34.5, 200, 10, 'Ntt', 'kk'}\n",
            "{34.5, 200, 10, 'blr', 'Ntt', 20, 'kk'}\n"
          ]
        }
      ]
    },
    {
      "cell_type": "code",
      "source": [
        "#frozen set\n",
        "\n",
        "s = {1,2,3,4,5}\n",
        "fs = frozenset(s)\n",
        "print(fs)\n",
        "print(type(fs))\n",
        "\n",
        "fs.add(1)\n"
      ],
      "metadata": {
        "colab": {
          "base_uri": "https://localhost:8080/",
          "height": 216
        },
        "id": "M9heqn4vAE0M",
        "outputId": "1ce1b6cd-41ea-4895-d716-0cda5741857c"
      },
      "execution_count": 27,
      "outputs": [
        {
          "output_type": "stream",
          "name": "stdout",
          "text": [
            "frozenset({1, 2, 3, 4, 5})\n",
            "<class 'frozenset'>\n"
          ]
        },
        {
          "output_type": "error",
          "ename": "AttributeError",
          "evalue": "'frozenset' object has no attribute 'add'",
          "traceback": [
            "\u001b[0;31m---------------------------------------------------------------------------\u001b[0m",
            "\u001b[0;31mAttributeError\u001b[0m                            Traceback (most recent call last)",
            "\u001b[0;32m<ipython-input-27-314c9770f0e5>\u001b[0m in \u001b[0;36m<cell line: 0>\u001b[0;34m()\u001b[0m\n\u001b[1;32m      6\u001b[0m \u001b[0mprint\u001b[0m\u001b[0;34m(\u001b[0m\u001b[0mtype\u001b[0m\u001b[0;34m(\u001b[0m\u001b[0mfs\u001b[0m\u001b[0;34m)\u001b[0m\u001b[0;34m)\u001b[0m\u001b[0;34m\u001b[0m\u001b[0;34m\u001b[0m\u001b[0m\n\u001b[1;32m      7\u001b[0m \u001b[0;34m\u001b[0m\u001b[0m\n\u001b[0;32m----> 8\u001b[0;31m \u001b[0mfs\u001b[0m\u001b[0;34m.\u001b[0m\u001b[0madd\u001b[0m\u001b[0;34m(\u001b[0m\u001b[0;36m1\u001b[0m\u001b[0;34m)\u001b[0m\u001b[0;34m\u001b[0m\u001b[0;34m\u001b[0m\u001b[0m\n\u001b[0m",
            "\u001b[0;31mAttributeError\u001b[0m: 'frozenset' object has no attribute 'add'"
          ]
        }
      ]
    }
  ]
}